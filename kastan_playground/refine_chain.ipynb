{
 "cells": [
  {
   "attachments": {},
   "cell_type": "markdown",
   "id": "74148cee",
   "metadata": {},
   "source": [
    "# Question Answering with Sources\n",
    "\n",
    "This notebook walks through how to use LangChain for question answering with sources over a list of documents. It covers four different chain types: `stuff`, `map_reduce`, `refine`,`map-rerank`. For a more in depth explanation of what these chain types are, see [here](../combine_docs.md)."
   ]
  },
  {
   "cell_type": "code",
   "execution_count": 1,
   "id": "72de609f",
   "metadata": {},
   "outputs": [
    {
     "data": {
      "text/plain": [
       "'uiuc-chatbot-deduped'"
      ]
     },
     "execution_count": 1,
     "metadata": {},
     "output_type": "execute_result"
    }
   ],
   "source": [
    "from dotenv import load_dotenv\n",
    "import os\n",
    "\n",
    "load_dotenv(dotenv_path='.env', override=True)\n",
    "\n",
    "os.environ['PINECONE_INDEX_NAME']"
   ]
  },
  {
   "attachments": {},
   "cell_type": "markdown",
   "id": "ca2f0efc",
   "metadata": {},
   "source": [
    "## Prepare Data\n",
    "First we prepare the data. For this example we do similarity search over a vector database, but these documents could be fetched in any manner (the point of this notebook to highlight what to do AFTER you fetch the documents)."
   ]
  },
  {
   "cell_type": "code",
   "execution_count": 2,
   "id": "78f28130",
   "metadata": {},
   "outputs": [],
   "source": [
    "from langchain.embeddings.openai import OpenAIEmbeddings\n",
    "from langchain.embeddings.cohere import CohereEmbeddings\n",
    "from langchain.text_splitter import CharacterTextSplitter\n",
    "from langchain.vectorstores.elastic_vector_search import ElasticVectorSearch\n",
    "from langchain.vectorstores import Chroma\n",
    "from langchain.docstore.document import Document\n",
    "from langchain.prompts import PromptTemplate"
   ]
  },
  {
   "cell_type": "code",
   "execution_count": 5,
   "id": "4da195a3",
   "metadata": {},
   "outputs": [],
   "source": [
    "# with open(\"../../state_of_the_union.txt\") as f:\n",
    "#     state_of_the_union = f.read()\n",
    "# text_splitter = CharacterTextSplitter(chunk_size=1000, chunk_overlap=0)\n",
    "# texts = text_splitter.split_text(state_of_the_union)\n",
    "\n",
    "# embeddings = OpenAIEmbeddings()"
   ]
  },
  {
   "cell_type": "code",
   "execution_count": 6,
   "id": "5ec2b55b",
   "metadata": {},
   "outputs": [
    {
     "name": "stdout",
     "output_type": "stream",
     "text": [
      "Running Chroma using direct local API.\n",
      "Using DuckDB in-memory for database. Data will be transient.\n"
     ]
    }
   ],
   "source": [
    "# docsearch = Chroma.from_texts(texts, embeddings, metadatas=[{\"source\": str(i)} for i in range(len(texts))])"
   ]
  },
  {
   "cell_type": "code",
   "execution_count": null,
   "id": "28746749",
   "metadata": {},
   "outputs": [],
   "source": [
    "# query = \"What did the president say about Justice Breyer\"\n",
    "# docs = docsearch.similarity_search(query)"
   ]
  },
  {
   "attachments": {},
   "cell_type": "markdown",
   "id": "5837fbbf",
   "metadata": {},
   "source": [
    "## Use pinecone instead"
   ]
  },
  {
   "cell_type": "code",
   "execution_count": 3,
   "id": "b6f82c0a",
   "metadata": {},
   "outputs": [
    {
     "name": "stderr",
     "output_type": "stream",
     "text": [
      "/Users/kastanday/miniforge3/envs/openai/lib/python3.10/site-packages/pinecone/index.py:4: TqdmWarning: IProgress not found. Please update jupyter and ipywidgets. See https://ipywidgets.readthedocs.io/en/stable/user_install.html\n",
      "  from tqdm.autonotebook import tqdm\n",
      "No sentence-transformers model found with name /Users/kastanday/.cache/torch/sentence_transformers/intfloat_e5-large. Creating a new one with MEAN pooling.\n"
     ]
    }
   ],
   "source": [
    "import pinecone\n",
    "from langchain.embeddings import HuggingFaceEmbeddings\n",
    "from langchain.vectorstores import Pinecone\n",
    "\n",
    "query = 'What is a LC-3 ISA?'\n",
    "\n",
    "pinecone.init(api_key=os.environ['PINECONE_API_KEY'], environment=os.environ['PINECONE_ENVIRONMENT'])\n",
    "pincecone_index = pinecone.Index(os.environ['PINECONE_INDEX_NAME'])\n",
    "embeddings = HuggingFaceEmbeddings(model_name=\"intfloat/e5-large\")  # best text embedding model. 1024 dims.\n",
    "vectorstore = Pinecone(index=pincecone_index, embedding_function=embeddings.embed_query, text_key=\"text\")\n",
    "\n",
    "docs = vectorstore.similarity_search(query)\n"
   ]
  },
  {
   "cell_type": "code",
   "execution_count": 4,
   "id": "6217465e",
   "metadata": {},
   "outputs": [
    {
     "data": {
      "text/plain": [
       "'Yale-Patt_Sanjay-Patel--Intro_to_Computing_Systemspage:200.0'"
      ]
     },
     "execution_count": 4,
     "metadata": {},
     "output_type": "execute_result"
    }
   ],
   "source": [
    "# add \"Source\" metadata property to docs.\n",
    "for i, d in enumerate(docs):\n",
    "  docs[i].metadata['source'] = d.metadata['textbook_name'] + \"page:\" + str(d.metadata['page_number'])\n",
    "docs[0].metadata['source']"
   ]
  },
  {
   "cell_type": "code",
   "execution_count": 5,
   "id": "2af74aa7",
   "metadata": {},
   "outputs": [],
   "source": [
    "query = '''Please answer this textbook medical question:\n",
    "\n",
    "A 16-year-old boy is brought to the emergency department by his friends for severe anxiety. He became paranoid and unusually withdrawn at a party and began rocking back and forth, saying, \"I feel like I can't breathe\" and \"I'm afraid I'm going to die.\" Prior to the party, he was his regular \"happy and outgoing\" self. The patient has intermittent back pain from a bicycle accident last year for which he takes oxycodone as needed. Temperature is 36.1 C (97 F), blood pressure is 140/80 mm Hg, pulse is 110/min, and respirations are 18/min. Pulse oximetry is 98% on room air. Examination shows an anxious and withdrawn boy with 3-mm pupils, conjunctival injection, dry oral mucosa, and a healed scar on his right thigh from his bicycle accident. Which of the following is most consistent with this patient's presentation?\n",
    "\n",
    "Select the correct answer:\n",
    "A. Bath salts intoxication \n",
    "B. Cannabis intoxication \n",
    "C. Cocaine intoxication\n",
    "D. Cocaine withdrawal\n",
    "E. Lysergie acid diethylamide intoxication'''"
   ]
  },
  {
   "cell_type": "code",
   "execution_count": 9,
   "id": "bfa61e71",
   "metadata": {},
   "outputs": [
    {
     "name": "stderr",
     "output_type": "stream",
     "text": [
      "/Users/kastanday/miniforge3/envs/openai/lib/python3.10/site-packages/langchain/llms/openai.py:169: UserWarning: You are trying to use a chat model. This way of initializing it is no longer supported. Instead, please use: `from langchain.chat_models import ChatOpenAI`\n",
      "  warnings.warn(\n",
      "/Users/kastanday/miniforge3/envs/openai/lib/python3.10/site-packages/langchain/llms/openai.py:608: UserWarning: You are trying to use a chat model. This way of initializing it is no longer supported. Instead, please use: `from langchain.chat_models import ChatOpenAI`\n",
      "  warnings.warn(\n"
     ]
    },
    {
     "ename": "ValueError",
     "evalue": "Missing some input keys: {'text'}",
     "output_type": "error",
     "traceback": [
      "\u001b[0;31m---------------------------------------------------------------------------\u001b[0m",
      "\u001b[0;31mValueError\u001b[0m                                Traceback (most recent call last)",
      "\u001b[1;32m/Users/kastanday/code/githubs/langchain_experiments/refine_chain.ipynb Cell 12\u001b[0m in \u001b[0;36m<cell line: 5>\u001b[0;34m()\u001b[0m\n\u001b[1;32m      <a href='vscode-notebook-cell:/Users/kastanday/code/githubs/langchain_experiments/refine_chain.ipynb#X66sZmlsZQ%3D%3D?line=1'>2</a>\u001b[0m \u001b[39mfrom\u001b[39;00m \u001b[39mlangchain\u001b[39;00m\u001b[39m.\u001b[39;00m\u001b[39mllms\u001b[39;00m \u001b[39mimport\u001b[39;00m OpenAI\n\u001b[1;32m      <a href='vscode-notebook-cell:/Users/kastanday/code/githubs/langchain_experiments/refine_chain.ipynb#X66sZmlsZQ%3D%3D?line=3'>4</a>\u001b[0m chain \u001b[39m=\u001b[39m QAGenerationChain\u001b[39m.\u001b[39mfrom_llm(OpenAI(model_name\u001b[39m=\u001b[39m\u001b[39m'\u001b[39m\u001b[39mgpt-4\u001b[39m\u001b[39m'\u001b[39m, temperature\u001b[39m=\u001b[39m\u001b[39m0\u001b[39m), chain_type\u001b[39m=\u001b[39m\u001b[39m\"\u001b[39m\u001b[39mstuff\u001b[39m\u001b[39m\"\u001b[39m)\n\u001b[0;32m----> <a href='vscode-notebook-cell:/Users/kastanday/code/githubs/langchain_experiments/refine_chain.ipynb#X66sZmlsZQ%3D%3D?line=4'>5</a>\u001b[0m chain({\u001b[39m\"\u001b[39;49m\u001b[39mquestion\u001b[39;49m\u001b[39m\"\u001b[39;49m: query})\n",
      "File \u001b[0;32m~/miniforge3/envs/openai/lib/python3.10/site-packages/langchain/chains/base.py:106\u001b[0m, in \u001b[0;36mChain.__call__\u001b[0;34m(self, inputs, return_only_outputs)\u001b[0m\n\u001b[1;32m     92\u001b[0m \u001b[39mdef\u001b[39;00m \u001b[39m__call__\u001b[39m(\n\u001b[1;32m     93\u001b[0m     \u001b[39mself\u001b[39m, inputs: Union[Dict[\u001b[39mstr\u001b[39m, Any], Any], return_only_outputs: \u001b[39mbool\u001b[39m \u001b[39m=\u001b[39m \u001b[39mFalse\u001b[39;00m\n\u001b[1;32m     94\u001b[0m ) \u001b[39m-\u001b[39m\u001b[39m>\u001b[39m Dict[\u001b[39mstr\u001b[39m, Any]:\n\u001b[1;32m     95\u001b[0m     \u001b[39m\"\"\"Run the logic of this chain and add to output if desired.\u001b[39;00m\n\u001b[1;32m     96\u001b[0m \n\u001b[1;32m     97\u001b[0m \u001b[39m    Args:\u001b[39;00m\n\u001b[0;32m   (...)\u001b[0m\n\u001b[1;32m    104\u001b[0m \n\u001b[1;32m    105\u001b[0m \u001b[39m    \"\"\"\u001b[39;00m\n\u001b[0;32m--> 106\u001b[0m     inputs \u001b[39m=\u001b[39m \u001b[39mself\u001b[39;49m\u001b[39m.\u001b[39;49mprep_inputs(inputs)\n\u001b[1;32m    107\u001b[0m     \u001b[39mself\u001b[39m\u001b[39m.\u001b[39mcallback_manager\u001b[39m.\u001b[39mon_chain_start(\n\u001b[1;32m    108\u001b[0m         {\u001b[39m\"\u001b[39m\u001b[39mname\u001b[39m\u001b[39m\"\u001b[39m: \u001b[39mself\u001b[39m\u001b[39m.\u001b[39m\u001b[39m__class__\u001b[39m\u001b[39m.\u001b[39m\u001b[39m__name__\u001b[39m},\n\u001b[1;32m    109\u001b[0m         inputs,\n\u001b[1;32m    110\u001b[0m         verbose\u001b[39m=\u001b[39m\u001b[39mself\u001b[39m\u001b[39m.\u001b[39mverbose,\n\u001b[1;32m    111\u001b[0m     )\n\u001b[1;32m    112\u001b[0m     \u001b[39mtry\u001b[39;00m:\n",
      "File \u001b[0;32m~/miniforge3/envs/openai/lib/python3.10/site-packages/langchain/chains/base.py:195\u001b[0m, in \u001b[0;36mChain.prep_inputs\u001b[0;34m(self, inputs)\u001b[0m\n\u001b[1;32m    193\u001b[0m     external_context \u001b[39m=\u001b[39m \u001b[39mself\u001b[39m\u001b[39m.\u001b[39mmemory\u001b[39m.\u001b[39mload_memory_variables(inputs)\n\u001b[1;32m    194\u001b[0m     inputs \u001b[39m=\u001b[39m \u001b[39mdict\u001b[39m(inputs, \u001b[39m*\u001b[39m\u001b[39m*\u001b[39mexternal_context)\n\u001b[0;32m--> 195\u001b[0m \u001b[39mself\u001b[39;49m\u001b[39m.\u001b[39;49m_validate_inputs(inputs)\n\u001b[1;32m    196\u001b[0m \u001b[39mreturn\u001b[39;00m inputs\n",
      "File \u001b[0;32m~/miniforge3/envs/openai/lib/python3.10/site-packages/langchain/chains/base.py:75\u001b[0m, in \u001b[0;36mChain._validate_inputs\u001b[0;34m(self, inputs)\u001b[0m\n\u001b[1;32m     73\u001b[0m missing_keys \u001b[39m=\u001b[39m \u001b[39mset\u001b[39m(\u001b[39mself\u001b[39m\u001b[39m.\u001b[39minput_keys)\u001b[39m.\u001b[39mdifference(inputs)\n\u001b[1;32m     74\u001b[0m \u001b[39mif\u001b[39;00m missing_keys:\n\u001b[0;32m---> 75\u001b[0m     \u001b[39mraise\u001b[39;00m \u001b[39mValueError\u001b[39;00m(\u001b[39mf\u001b[39m\u001b[39m\"\u001b[39m\u001b[39mMissing some input keys: \u001b[39m\u001b[39m{\u001b[39;00mmissing_keys\u001b[39m}\u001b[39;00m\u001b[39m\"\u001b[39m)\n",
      "\u001b[0;31mValueError\u001b[0m: Missing some input keys: {'text'}"
     ]
    }
   ],
   "source": [
    "from langchain.chains import QAGenerationChain\n",
    "from langchain.llms import OpenAI\n",
    "\n",
    "chain = QAGenerationChain.from_llm(OpenAI(model_name='gpt-4', temperature=0), chain_type=\"stuff\")\n",
    "chain({\"question\": query})"
   ]
  },
  {
   "attachments": {},
   "cell_type": "markdown",
   "id": "5b119026",
   "metadata": {},
   "source": [
    "## Quickstart\n",
    "If you just want to get started as quickly as possible, this is the recommended way to do it:"
   ]
  },
  {
   "cell_type": "code",
   "execution_count": 7,
   "id": "005a47e9",
   "metadata": {},
   "outputs": [],
   "source": [
    "from langchain.chains.qa_with_sources import load_qa_with_sources_chain\n",
    "from langchain.llms import OpenAI"
   ]
  },
  {
   "cell_type": "code",
   "execution_count": 25,
   "id": "3722373b",
   "metadata": {},
   "outputs": [
    {
     "name": "stderr",
     "output_type": "stream",
     "text": [
      "/Users/kastanday/miniforge3/envs/openai/lib/python3.10/site-packages/langchain/llms/openai.py:169: UserWarning: You are trying to use a chat model. This way of initializing it is no longer supported. Instead, please use: `from langchain.chat_models import ChatOpenAI`\n",
      "  warnings.warn(\n",
      "/Users/kastanday/miniforge3/envs/openai/lib/python3.10/site-packages/langchain/llms/openai.py:608: UserWarning: You are trying to use a chat model. This way of initializing it is no longer supported. Instead, please use: `from langchain.chat_models import ChatOpenAI`\n",
      "  warnings.warn(\n"
     ]
    },
    {
     "data": {
      "text/plain": [
       "{'output_text': 'LC-3 ISA is the instruction set architecture of the LC-3 computer, which specifies all the information about the computer that the software has to be aware of. It has a 16-bit memory address space, corresponding to 2^16 locations, each containing one word (16 bits). The LC-3 is a three-address ISA, with instructions such as ADD, AND, LD, BR, and TRAP.\\nSOURCES: Yale-Patt_Sanjay-Patel--Intro_to_Computing_Systemspage:104.0, 200.0, 227.0'}"
      ]
     },
     "execution_count": 25,
     "metadata": {},
     "output_type": "execute_result"
    }
   ],
   "source": [
    "chain = load_qa_with_sources_chain(OpenAI(model_name='gpt-4', temperature=0), chain_type=\"stuff\")\n",
    "chain({\"input_documents\": docs, \"question\": query}, return_only_outputs=True)"
   ]
  },
  {
   "attachments": {},
   "cell_type": "markdown",
   "id": "ad6c64a4",
   "metadata": {},
   "source": [
    "LC-3 ISA is the instruction set architecture of the LC-3 computer, which specifies all the information about the computer that the software has to be aware of. It has a 16-bit memory address space, corresponding to 2^16 locations, each containing one word (16 bits). The LC-3 is a three-address ISA, with instructions such as ADD, AND, LD, BR, and TRAP.\\nSOURCES: Yale-Patt_Sanjay-Patel--Intro_to_Computing_Systemspage:104.0, 200.0, 227.0'\n"
   ]
  },
  {
   "attachments": {},
   "cell_type": "markdown",
   "id": "bdaf9268",
   "metadata": {},
   "source": [
    "If you want more control and understanding over what is happening, please see the information below."
   ]
  },
  {
   "attachments": {},
   "cell_type": "markdown",
   "id": "d82f899a",
   "metadata": {},
   "source": [
    "## The `stuff` Chain\n",
    "\n",
    "This sections shows results of using the `stuff` Chain to do question answering with sources."
   ]
  },
  {
   "cell_type": "code",
   "execution_count": 26,
   "id": "fc1a5ed6",
   "metadata": {},
   "outputs": [],
   "source": [
    "chain = load_qa_with_sources_chain(OpenAI(model_name='gpt-4', temperature=0), chain_type=\"stuff\")"
   ]
  },
  {
   "cell_type": "code",
   "execution_count": 7,
   "id": "7d766417",
   "metadata": {},
   "outputs": [
    {
     "data": {
      "text/plain": [
       "{'output_text': ' The president thanked Justice Breyer for his service.\\nSOURCES: 30-pl'}"
      ]
     },
     "execution_count": 7,
     "metadata": {},
     "output_type": "execute_result"
    }
   ],
   "source": [
    "# query = \"What did the president say about Justice Breyer\"\n",
    "chain({\"input_documents\": docs, \"question\": query}, return_only_outputs=True)"
   ]
  },
  {
   "attachments": {},
   "cell_type": "markdown",
   "id": "e966aea8",
   "metadata": {},
   "source": [
    "**Custom Prompts**\n",
    "\n",
    "You can also use your own prompts with this chain. In this example, we will respond in Italian."
   ]
  },
  {
   "cell_type": "code",
   "execution_count": 7,
   "id": "426c570b",
   "metadata": {},
   "outputs": [
    {
     "data": {
      "text/plain": [
       "{'output_text': '\\nNon so cosa abbia detto il presidente riguardo a Justice Breyer.\\nSOURCES: 30, 31, 33'}"
      ]
     },
     "execution_count": 7,
     "metadata": {},
     "output_type": "execute_result"
    }
   ],
   "source": [
    "template = \"\"\"Given the following extracted parts of a long document and a question, create a final answer with references (\"SOURCES\"). \n",
    "If you don't know the answer, just say that you don't know. Don't try to make up an answer.\n",
    "ALWAYS return a \"SOURCES\" part in your answer.\n",
    "Respond in Italian.\n",
    "\n",
    "QUESTION: {question}\n",
    "=========\n",
    "{summaries}\n",
    "=========\n",
    "FINAL ANSWER IN ITALIAN:\"\"\"\n",
    "PROMPT = PromptTemplate(template=template, input_variables=[\"summaries\", \"question\"])\n",
    "\n",
    "chain = load_qa_with_sources_chain(OpenAI(temperature=0), chain_type=\"stuff\", prompt=PROMPT)\n",
    "query = \"What did the president say about Justice Breyer\"\n",
    "chain({\"input_documents\": docs, \"question\": query}, return_only_outputs=True)"
   ]
  },
  {
   "attachments": {},
   "cell_type": "markdown",
   "id": "c5dbb304",
   "metadata": {},
   "source": [
    "## The `map_reduce` Chain\n",
    "\n",
    "This sections shows results of using the `map_reduce` Chain to do question answering with sources."
   ]
  },
  {
   "cell_type": "code",
   "execution_count": 27,
   "id": "921db0a4",
   "metadata": {},
   "outputs": [],
   "source": [
    "chain = load_qa_with_sources_chain(OpenAI(model_name='gpt-4', temperature=0), chain_type=\"map_reduce\")"
   ]
  },
  {
   "cell_type": "code",
   "execution_count": 28,
   "id": "e417926a",
   "metadata": {},
   "outputs": [
    {
     "ename": "ValueError",
     "evalue": "OpenAIChat currently only supports single prompt, got ['Use the following portion of a long document to see if any of the text is relevant to answer the question. \\nReturn any relevant text verbatim.\\nLC-3 ISA\\nA.1 Overview\\nThe instruction set architecture (ISA) of the LC-3 is dened as follows:\\nMemory address space 16 bits, corresponding to 216 locations, each\\ncontaining one word (16 bits). Addresses are numbered from 0 (i.e., x0000)\\nto 65,535 (i.e., xFFFF). Addresses are used to identify memory locations\\nand memory-mapped I/O device registers. Certain regions of memory are\\nreserved for special uses, as described in Figure A.1.\\nxFFFF\\nFigure A.1\\nMemory map of the LC-3\\nQuestion: What is a LC-3 ISA?\\nRelevant text, if any:', 'Use the following portion of a long document to see if any of the text is relevant to answer the question. \\nReturn any relevant text verbatim.\\nTable B.2 lists some of the data movement\\nopcodes in the x86 instruction set.\\nControl\\nThe LC-3 has ve control opcodes: BR, JSR/JSRR, JMP, RTI, and\\nTRAP. x86 has all these and more. Table B.3 lists some of the control opcodes in\\nthe x86 instruction set.\\nB.1.1.3 Two Address vs. Three Address\\nThe LC-3 is a three-address ISA. This description reects the number of operands\\nexplicitly specied by the ADD instruction. An add operation requires two\\nsource operands (the numbers to be added) and one destination operand to store\\nQuestion: What is a LC-3 ISA?\\nRelevant text, if any:', 'Use the following portion of a long document to see if any of the text is relevant to answer the question. \\nReturn any relevant text verbatim.\\nLC-3\\nI\\nn Chapter 4, we discussed the basic components of a computerits mem-\\nory, its processing unit, including the associated temporary storage (usually\\na set of registers), input and output devices, and the control unit that directs the\\nactivity of all the units (including itself!). We also studied the six phases of the\\ninstruction cycleFETCH, DECODE, ADDRESS EVALUATION, OPERAND\\nFETCH, EXECUTE, and STORE RESULT. We used elements of the LC-3 to\\nillustrate some of the concepts. In fact, we introduced ve opcodes: two operate\\ninstructions (ADD and AND), one data movement instruction (LD), and two con-\\ntrol instructions (BR and TRAP). We are now ready to study the LC-3 in much\\ngreater detail.\\nRecall from Chapter 1 that the ISA is the interface between what the soft-\\nware commands and what the hardware actually carries out. In this chapter, we\\nwill point out most of the important features of the ISA of the LC-3. (A few ele-\\nments we will leave for Chapter 8 and Chapter 9.) You will need these features\\nto write programs in the LC-3s own language, that is, in the LC-3s machine\\nlanguage.\\nA complete description of the ISA of the LC-3 is contained in Appendix A.\\n5.1 The ISA: Overview\\nThe ISA species all the information about the computer that the software has\\nto be aware of. In other words, the ISA species everything in the computer\\nthat is available to a programmer when he/she writes programs in the com-\\nputers own machine language. Most people, however, do not write programs\\nin the computers own machine language, but rather opt for writing programs in\\na high-level language like C++ or Python (or Fortran or COBOL, which have\\nbeen around for more than 50 years). Thus, the ISA also species everything\\nin the computer that is needed by someone (a compiler writer) who wishes to\\ntranslate programs written in a high-level language into the machine language of\\nthe computer.\\nQuestion: What is a LC-3 ISA?\\nRelevant text, if any:', \"Use the following portion of a long document to see if any of the text is relevant to answer the question. \\nReturn any relevant text verbatim.\\nThat's one instruction. So here's another instruction, which is add. So this is the add opcode over here. It also has three fields and then three things that have to be fixed to zero. So there's a destination register. That's where we're going to put our answer, 0 through 7. There's one source register, also 0 through 7. Good. And then there's another source register. So it says take two registers, add them together, put the answer, the sum, into destination register. That's all. What are the zeros for? Ah, so that's a good question. So why not just let those be don't cares? So there was this commercial architecture called the 6502, let those be don't cares. And it turned out that those don't cares produced some bizarre effects when software people used those instructions with different bits, because they just built a finite state machine and they left them as don't cares. And so it did something. And turned out it did something sort of interesting that the software people decided that they really wanted. And so they put those non-existence instructions in their software. And then when the 6502 architects wanted to produce a new generation, they found that in fact people had used bit patterns that didn't exist in the instruction set architecture. So the modern view of that is don't ever make that mistake again. If you ever want to extend your instruction set architecture, it's really useful to have undefined bit patterns. On the other hand, having software that takes advantage of a particular microarchitecture's don't cares mapped into something is not so attractive from a design point of view. So let me stop there and we'll look more at these next week. Have a good weekend.\\nQuestion: What is a LC-3 ISA?\\nRelevant text, if any:\"]",
     "output_type": "error",
     "traceback": [
      "\u001b[0;31m---------------------------------------------------------------------------\u001b[0m",
      "\u001b[0;31mValueError\u001b[0m                                Traceback (most recent call last)",
      "\u001b[1;32m/Users/kastanday/code/githubs/langchain_experiments/refine_chain.ipynb Cell 24\u001b[0m in \u001b[0;36m<cell line: 2>\u001b[0;34m()\u001b[0m\n\u001b[1;32m      <a href='vscode-notebook-cell:/Users/kastanday/code/githubs/langchain_experiments/refine_chain.ipynb#X23sZmlsZQ%3D%3D?line=0'>1</a>\u001b[0m \u001b[39m# query = \"What did the president say about Justice Breyer\"\u001b[39;00m\n\u001b[0;32m----> <a href='vscode-notebook-cell:/Users/kastanday/code/githubs/langchain_experiments/refine_chain.ipynb#X23sZmlsZQ%3D%3D?line=1'>2</a>\u001b[0m chain({\u001b[39m\"\u001b[39;49m\u001b[39minput_documents\u001b[39;49m\u001b[39m\"\u001b[39;49m: docs, \u001b[39m\"\u001b[39;49m\u001b[39mquestion\u001b[39;49m\u001b[39m\"\u001b[39;49m: query}, return_only_outputs\u001b[39m=\u001b[39;49m\u001b[39mTrue\u001b[39;49;00m)\n",
      "File \u001b[0;32m~/miniforge3/envs/openai/lib/python3.10/site-packages/langchain/chains/base.py:116\u001b[0m, in \u001b[0;36mChain.__call__\u001b[0;34m(self, inputs, return_only_outputs)\u001b[0m\n\u001b[1;32m    114\u001b[0m \u001b[39mexcept\u001b[39;00m (\u001b[39mKeyboardInterrupt\u001b[39;00m, \u001b[39mException\u001b[39;00m) \u001b[39mas\u001b[39;00m e:\n\u001b[1;32m    115\u001b[0m     \u001b[39mself\u001b[39m\u001b[39m.\u001b[39mcallback_manager\u001b[39m.\u001b[39mon_chain_error(e, verbose\u001b[39m=\u001b[39m\u001b[39mself\u001b[39m\u001b[39m.\u001b[39mverbose)\n\u001b[0;32m--> 116\u001b[0m     \u001b[39mraise\u001b[39;00m e\n\u001b[1;32m    117\u001b[0m \u001b[39mself\u001b[39m\u001b[39m.\u001b[39mcallback_manager\u001b[39m.\u001b[39mon_chain_end(outputs, verbose\u001b[39m=\u001b[39m\u001b[39mself\u001b[39m\u001b[39m.\u001b[39mverbose)\n\u001b[1;32m    118\u001b[0m \u001b[39mreturn\u001b[39;00m \u001b[39mself\u001b[39m\u001b[39m.\u001b[39mprep_outputs(inputs, outputs, return_only_outputs)\n",
      "File \u001b[0;32m~/miniforge3/envs/openai/lib/python3.10/site-packages/langchain/chains/base.py:113\u001b[0m, in \u001b[0;36mChain.__call__\u001b[0;34m(self, inputs, return_only_outputs)\u001b[0m\n\u001b[1;32m    107\u001b[0m \u001b[39mself\u001b[39m\u001b[39m.\u001b[39mcallback_manager\u001b[39m.\u001b[39mon_chain_start(\n\u001b[1;32m    108\u001b[0m     {\u001b[39m\"\u001b[39m\u001b[39mname\u001b[39m\u001b[39m\"\u001b[39m: \u001b[39mself\u001b[39m\u001b[39m.\u001b[39m\u001b[39m__class__\u001b[39m\u001b[39m.\u001b[39m\u001b[39m__name__\u001b[39m},\n\u001b[1;32m    109\u001b[0m     inputs,\n\u001b[1;32m    110\u001b[0m     verbose\u001b[39m=\u001b[39m\u001b[39mself\u001b[39m\u001b[39m.\u001b[39mverbose,\n\u001b[1;32m    111\u001b[0m )\n\u001b[1;32m    112\u001b[0m \u001b[39mtry\u001b[39;00m:\n\u001b[0;32m--> 113\u001b[0m     outputs \u001b[39m=\u001b[39m \u001b[39mself\u001b[39;49m\u001b[39m.\u001b[39;49m_call(inputs)\n\u001b[1;32m    114\u001b[0m \u001b[39mexcept\u001b[39;00m (\u001b[39mKeyboardInterrupt\u001b[39;00m, \u001b[39mException\u001b[39;00m) \u001b[39mas\u001b[39;00m e:\n\u001b[1;32m    115\u001b[0m     \u001b[39mself\u001b[39m\u001b[39m.\u001b[39mcallback_manager\u001b[39m.\u001b[39mon_chain_error(e, verbose\u001b[39m=\u001b[39m\u001b[39mself\u001b[39m\u001b[39m.\u001b[39mverbose)\n",
      "File \u001b[0;32m~/miniforge3/envs/openai/lib/python3.10/site-packages/langchain/chains/combine_documents/base.py:56\u001b[0m, in \u001b[0;36mBaseCombineDocumentsChain._call\u001b[0;34m(self, inputs)\u001b[0m\n\u001b[1;32m     54\u001b[0m \u001b[39m# Other keys are assumed to be needed for LLM prediction\u001b[39;00m\n\u001b[1;32m     55\u001b[0m other_keys \u001b[39m=\u001b[39m {k: v \u001b[39mfor\u001b[39;00m k, v \u001b[39min\u001b[39;00m inputs\u001b[39m.\u001b[39mitems() \u001b[39mif\u001b[39;00m k \u001b[39m!=\u001b[39m \u001b[39mself\u001b[39m\u001b[39m.\u001b[39minput_key}\n\u001b[0;32m---> 56\u001b[0m output, extra_return_dict \u001b[39m=\u001b[39m \u001b[39mself\u001b[39;49m\u001b[39m.\u001b[39;49mcombine_docs(docs, \u001b[39m*\u001b[39;49m\u001b[39m*\u001b[39;49mother_keys)\n\u001b[1;32m     57\u001b[0m extra_return_dict[\u001b[39mself\u001b[39m\u001b[39m.\u001b[39moutput_key] \u001b[39m=\u001b[39m output\n\u001b[1;32m     58\u001b[0m \u001b[39mreturn\u001b[39;00m extra_return_dict\n",
      "File \u001b[0;32m~/miniforge3/envs/openai/lib/python3.10/site-packages/langchain/chains/combine_documents/map_reduce.py:139\u001b[0m, in \u001b[0;36mMapReduceDocumentsChain.combine_docs\u001b[0;34m(self, docs, token_max, **kwargs)\u001b[0m\n\u001b[1;32m    131\u001b[0m \u001b[39mdef\u001b[39;00m \u001b[39mcombine_docs\u001b[39m(\n\u001b[1;32m    132\u001b[0m     \u001b[39mself\u001b[39m, docs: List[Document], token_max: \u001b[39mint\u001b[39m \u001b[39m=\u001b[39m \u001b[39m3000\u001b[39m, \u001b[39m*\u001b[39m\u001b[39m*\u001b[39mkwargs: Any\n\u001b[1;32m    133\u001b[0m ) \u001b[39m-\u001b[39m\u001b[39m>\u001b[39m Tuple[\u001b[39mstr\u001b[39m, \u001b[39mdict\u001b[39m]:\n\u001b[1;32m    134\u001b[0m     \u001b[39m\"\"\"Combine documents in a map reduce manner.\u001b[39;00m\n\u001b[1;32m    135\u001b[0m \n\u001b[1;32m    136\u001b[0m \u001b[39m    Combine by mapping first chain over all documents, then reducing the results.\u001b[39;00m\n\u001b[1;32m    137\u001b[0m \u001b[39m    This reducing can be done recursively if needed (if there are many documents).\u001b[39;00m\n\u001b[1;32m    138\u001b[0m \u001b[39m    \"\"\"\u001b[39;00m\n\u001b[0;32m--> 139\u001b[0m     results \u001b[39m=\u001b[39m \u001b[39mself\u001b[39;49m\u001b[39m.\u001b[39;49mllm_chain\u001b[39m.\u001b[39;49mapply(\n\u001b[1;32m    140\u001b[0m         \u001b[39m# FYI - this is parallelized and so it is fast.\u001b[39;49;00m\n\u001b[1;32m    141\u001b[0m         [{\u001b[39m*\u001b[39;49m\u001b[39m*\u001b[39;49m{\u001b[39mself\u001b[39;49m\u001b[39m.\u001b[39;49mdocument_variable_name: d\u001b[39m.\u001b[39;49mpage_content}, \u001b[39m*\u001b[39;49m\u001b[39m*\u001b[39;49mkwargs} \u001b[39mfor\u001b[39;49;00m d \u001b[39min\u001b[39;49;00m docs]\n\u001b[1;32m    142\u001b[0m     )\n\u001b[1;32m    143\u001b[0m     \u001b[39mreturn\u001b[39;00m \u001b[39mself\u001b[39m\u001b[39m.\u001b[39m_process_results(results, docs, token_max, \u001b[39m*\u001b[39m\u001b[39m*\u001b[39mkwargs)\n",
      "File \u001b[0;32m~/miniforge3/envs/openai/lib/python3.10/site-packages/langchain/chains/llm.py:118\u001b[0m, in \u001b[0;36mLLMChain.apply\u001b[0;34m(self, input_list)\u001b[0m\n\u001b[1;32m    116\u001b[0m \u001b[39mdef\u001b[39;00m \u001b[39mapply\u001b[39m(\u001b[39mself\u001b[39m, input_list: List[Dict[\u001b[39mstr\u001b[39m, Any]]) \u001b[39m-\u001b[39m\u001b[39m>\u001b[39m List[Dict[\u001b[39mstr\u001b[39m, \u001b[39mstr\u001b[39m]]:\n\u001b[1;32m    117\u001b[0m     \u001b[39m\"\"\"Utilize the LLM generate method for speed gains.\"\"\"\u001b[39;00m\n\u001b[0;32m--> 118\u001b[0m     response \u001b[39m=\u001b[39m \u001b[39mself\u001b[39;49m\u001b[39m.\u001b[39;49mgenerate(input_list)\n\u001b[1;32m    119\u001b[0m     \u001b[39mreturn\u001b[39;00m \u001b[39mself\u001b[39m\u001b[39m.\u001b[39mcreate_outputs(response)\n",
      "File \u001b[0;32m~/miniforge3/envs/openai/lib/python3.10/site-packages/langchain/chains/llm.py:62\u001b[0m, in \u001b[0;36mLLMChain.generate\u001b[0;34m(self, input_list)\u001b[0m\n\u001b[1;32m     60\u001b[0m \u001b[39m\"\"\"Generate LLM result from inputs.\"\"\"\u001b[39;00m\n\u001b[1;32m     61\u001b[0m prompts, stop \u001b[39m=\u001b[39m \u001b[39mself\u001b[39m\u001b[39m.\u001b[39mprep_prompts(input_list)\n\u001b[0;32m---> 62\u001b[0m \u001b[39mreturn\u001b[39;00m \u001b[39mself\u001b[39;49m\u001b[39m.\u001b[39;49mllm\u001b[39m.\u001b[39;49mgenerate_prompt(prompts, stop)\n",
      "File \u001b[0;32m~/miniforge3/envs/openai/lib/python3.10/site-packages/langchain/llms/base.py:107\u001b[0m, in \u001b[0;36mBaseLLM.generate_prompt\u001b[0;34m(self, prompts, stop)\u001b[0m\n\u001b[1;32m    103\u001b[0m \u001b[39mdef\u001b[39;00m \u001b[39mgenerate_prompt\u001b[39m(\n\u001b[1;32m    104\u001b[0m     \u001b[39mself\u001b[39m, prompts: List[PromptValue], stop: Optional[List[\u001b[39mstr\u001b[39m]] \u001b[39m=\u001b[39m \u001b[39mNone\u001b[39;00m\n\u001b[1;32m    105\u001b[0m ) \u001b[39m-\u001b[39m\u001b[39m>\u001b[39m LLMResult:\n\u001b[1;32m    106\u001b[0m     prompt_strings \u001b[39m=\u001b[39m [p\u001b[39m.\u001b[39mto_string() \u001b[39mfor\u001b[39;00m p \u001b[39min\u001b[39;00m prompts]\n\u001b[0;32m--> 107\u001b[0m     \u001b[39mreturn\u001b[39;00m \u001b[39mself\u001b[39;49m\u001b[39m.\u001b[39;49mgenerate(prompt_strings, stop\u001b[39m=\u001b[39;49mstop)\n",
      "File \u001b[0;32m~/miniforge3/envs/openai/lib/python3.10/site-packages/langchain/llms/base.py:140\u001b[0m, in \u001b[0;36mBaseLLM.generate\u001b[0;34m(self, prompts, stop)\u001b[0m\n\u001b[1;32m    138\u001b[0m \u001b[39mexcept\u001b[39;00m (\u001b[39mKeyboardInterrupt\u001b[39;00m, \u001b[39mException\u001b[39;00m) \u001b[39mas\u001b[39;00m e:\n\u001b[1;32m    139\u001b[0m     \u001b[39mself\u001b[39m\u001b[39m.\u001b[39mcallback_manager\u001b[39m.\u001b[39mon_llm_error(e, verbose\u001b[39m=\u001b[39m\u001b[39mself\u001b[39m\u001b[39m.\u001b[39mverbose)\n\u001b[0;32m--> 140\u001b[0m     \u001b[39mraise\u001b[39;00m e\n\u001b[1;32m    141\u001b[0m \u001b[39mself\u001b[39m\u001b[39m.\u001b[39mcallback_manager\u001b[39m.\u001b[39mon_llm_end(output, verbose\u001b[39m=\u001b[39m\u001b[39mself\u001b[39m\u001b[39m.\u001b[39mverbose)\n\u001b[1;32m    142\u001b[0m \u001b[39mreturn\u001b[39;00m output\n",
      "File \u001b[0;32m~/miniforge3/envs/openai/lib/python3.10/site-packages/langchain/llms/base.py:137\u001b[0m, in \u001b[0;36mBaseLLM.generate\u001b[0;34m(self, prompts, stop)\u001b[0m\n\u001b[1;32m    133\u001b[0m \u001b[39mself\u001b[39m\u001b[39m.\u001b[39mcallback_manager\u001b[39m.\u001b[39mon_llm_start(\n\u001b[1;32m    134\u001b[0m     {\u001b[39m\"\u001b[39m\u001b[39mname\u001b[39m\u001b[39m\"\u001b[39m: \u001b[39mself\u001b[39m\u001b[39m.\u001b[39m\u001b[39m__class__\u001b[39m\u001b[39m.\u001b[39m\u001b[39m__name__\u001b[39m}, prompts, verbose\u001b[39m=\u001b[39m\u001b[39mself\u001b[39m\u001b[39m.\u001b[39mverbose\n\u001b[1;32m    135\u001b[0m )\n\u001b[1;32m    136\u001b[0m \u001b[39mtry\u001b[39;00m:\n\u001b[0;32m--> 137\u001b[0m     output \u001b[39m=\u001b[39m \u001b[39mself\u001b[39;49m\u001b[39m.\u001b[39;49m_generate(prompts, stop\u001b[39m=\u001b[39;49mstop)\n\u001b[1;32m    138\u001b[0m \u001b[39mexcept\u001b[39;00m (\u001b[39mKeyboardInterrupt\u001b[39;00m, \u001b[39mException\u001b[39;00m) \u001b[39mas\u001b[39;00m e:\n\u001b[1;32m    139\u001b[0m     \u001b[39mself\u001b[39m\u001b[39m.\u001b[39mcallback_manager\u001b[39m.\u001b[39mon_llm_error(e, verbose\u001b[39m=\u001b[39m\u001b[39mself\u001b[39m\u001b[39m.\u001b[39mverbose)\n",
      "File \u001b[0;32m~/miniforge3/envs/openai/lib/python3.10/site-packages/langchain/llms/openai.py:641\u001b[0m, in \u001b[0;36mOpenAIChat._generate\u001b[0;34m(self, prompts, stop)\u001b[0m\n\u001b[1;32m    638\u001b[0m \u001b[39mdef\u001b[39;00m \u001b[39m_generate\u001b[39m(\n\u001b[1;32m    639\u001b[0m     \u001b[39mself\u001b[39m, prompts: List[\u001b[39mstr\u001b[39m], stop: Optional[List[\u001b[39mstr\u001b[39m]] \u001b[39m=\u001b[39m \u001b[39mNone\u001b[39;00m\n\u001b[1;32m    640\u001b[0m ) \u001b[39m-\u001b[39m\u001b[39m>\u001b[39m LLMResult:\n\u001b[0;32m--> 641\u001b[0m     messages, params \u001b[39m=\u001b[39m \u001b[39mself\u001b[39;49m\u001b[39m.\u001b[39;49m_get_chat_params(prompts, stop)\n\u001b[1;32m    642\u001b[0m     \u001b[39mif\u001b[39;00m \u001b[39mself\u001b[39m\u001b[39m.\u001b[39mstreaming:\n\u001b[1;32m    643\u001b[0m         response \u001b[39m=\u001b[39m \u001b[39m\"\u001b[39m\u001b[39m\"\u001b[39m\n",
      "File \u001b[0;32m~/miniforge3/envs/openai/lib/python3.10/site-packages/langchain/llms/openai.py:624\u001b[0m, in \u001b[0;36mOpenAIChat._get_chat_params\u001b[0;34m(self, prompts, stop)\u001b[0m\n\u001b[1;32m    620\u001b[0m \u001b[39mdef\u001b[39;00m \u001b[39m_get_chat_params\u001b[39m(\n\u001b[1;32m    621\u001b[0m     \u001b[39mself\u001b[39m, prompts: List[\u001b[39mstr\u001b[39m], stop: Optional[List[\u001b[39mstr\u001b[39m]] \u001b[39m=\u001b[39m \u001b[39mNone\u001b[39;00m\n\u001b[1;32m    622\u001b[0m ) \u001b[39m-\u001b[39m\u001b[39m>\u001b[39m Tuple:\n\u001b[1;32m    623\u001b[0m     \u001b[39mif\u001b[39;00m \u001b[39mlen\u001b[39m(prompts) \u001b[39m>\u001b[39m \u001b[39m1\u001b[39m:\n\u001b[0;32m--> 624\u001b[0m         \u001b[39mraise\u001b[39;00m \u001b[39mValueError\u001b[39;00m(\n\u001b[1;32m    625\u001b[0m             \u001b[39mf\u001b[39m\u001b[39m\"\u001b[39m\u001b[39mOpenAIChat currently only supports single prompt, got \u001b[39m\u001b[39m{\u001b[39;00mprompts\u001b[39m}\u001b[39;00m\u001b[39m\"\u001b[39m\n\u001b[1;32m    626\u001b[0m         )\n\u001b[1;32m    627\u001b[0m     messages \u001b[39m=\u001b[39m \u001b[39mself\u001b[39m\u001b[39m.\u001b[39mprefix_messages \u001b[39m+\u001b[39m [{\u001b[39m\"\u001b[39m\u001b[39mrole\u001b[39m\u001b[39m\"\u001b[39m: \u001b[39m\"\u001b[39m\u001b[39muser\u001b[39m\u001b[39m\"\u001b[39m, \u001b[39m\"\u001b[39m\u001b[39mcontent\u001b[39m\u001b[39m\"\u001b[39m: prompts[\u001b[39m0\u001b[39m]}]\n\u001b[1;32m    628\u001b[0m     params: Dict[\u001b[39mstr\u001b[39m, Any] \u001b[39m=\u001b[39m {\u001b[39m*\u001b[39m\u001b[39m*\u001b[39m{\u001b[39m\"\u001b[39m\u001b[39mmodel\u001b[39m\u001b[39m\"\u001b[39m: \u001b[39mself\u001b[39m\u001b[39m.\u001b[39mmodel_name}, \u001b[39m*\u001b[39m\u001b[39m*\u001b[39m\u001b[39mself\u001b[39m\u001b[39m.\u001b[39m_default_params}\n",
      "\u001b[0;31mValueError\u001b[0m: OpenAIChat currently only supports single prompt, got ['Use the following portion of a long document to see if any of the text is relevant to answer the question. \\nReturn any relevant text verbatim.\\nLC-3 ISA\\nA.1 Overview\\nThe instruction set architecture (ISA) of the LC-3 is dened as follows:\\nMemory address space 16 bits, corresponding to 216 locations, each\\ncontaining one word (16 bits). Addresses are numbered from 0 (i.e., x0000)\\nto 65,535 (i.e., xFFFF). Addresses are used to identify memory locations\\nand memory-mapped I/O device registers. Certain regions of memory are\\nreserved for special uses, as described in Figure A.1.\\nxFFFF\\nFigure A.1\\nMemory map of the LC-3\\nQuestion: What is a LC-3 ISA?\\nRelevant text, if any:', 'Use the following portion of a long document to see if any of the text is relevant to answer the question. \\nReturn any relevant text verbatim.\\nTable B.2 lists some of the data movement\\nopcodes in the x86 instruction set.\\nControl\\nThe LC-3 has ve control opcodes: BR, JSR/JSRR, JMP, RTI, and\\nTRAP. x86 has all these and more. Table B.3 lists some of the control opcodes in\\nthe x86 instruction set.\\nB.1.1.3 Two Address vs. Three Address\\nThe LC-3 is a three-address ISA. This description reects the number of operands\\nexplicitly specied by the ADD instruction. An add operation requires two\\nsource operands (the numbers to be added) and one destination operand to store\\nQuestion: What is a LC-3 ISA?\\nRelevant text, if any:', 'Use the following portion of a long document to see if any of the text is relevant to answer the question. \\nReturn any relevant text verbatim.\\nLC-3\\nI\\nn Chapter 4, we discussed the basic components of a computerits mem-\\nory, its processing unit, including the associated temporary storage (usually\\na set of registers), input and output devices, and the control unit that directs the\\nactivity of all the units (including itself!). We also studied the six phases of the\\ninstruction cycleFETCH, DECODE, ADDRESS EVALUATION, OPERAND\\nFETCH, EXECUTE, and STORE RESULT. We used elements of the LC-3 to\\nillustrate some of the concepts. In fact, we introduced ve opcodes: two operate\\ninstructions (ADD and AND), one data movement instruction (LD), and two con-\\ntrol instructions (BR and TRAP). We are now ready to study the LC-3 in much\\ngreater detail.\\nRecall from Chapter 1 that the ISA is the interface between what the soft-\\nware commands and what the hardware actually carries out. In this chapter, we\\nwill point out most of the important features of the ISA of the LC-3. (A few ele-\\nments we will leave for Chapter 8 and Chapter 9.) You will need these features\\nto write programs in the LC-3s own language, that is, in the LC-3s machine\\nlanguage.\\nA complete description of the ISA of the LC-3 is contained in Appendix A.\\n5.1 The ISA: Overview\\nThe ISA species all the information about the computer that the software has\\nto be aware of. In other words, the ISA species everything in the computer\\nthat is available to a programmer when he/she writes programs in the com-\\nputers own machine language. Most people, however, do not write programs\\nin the computers own machine language, but rather opt for writing programs in\\na high-level language like C++ or Python (or Fortran or COBOL, which have\\nbeen around for more than 50 years). Thus, the ISA also species everything\\nin the computer that is needed by someone (a compiler writer) who wishes to\\ntranslate programs written in a high-level language into the machine language of\\nthe computer.\\nQuestion: What is a LC-3 ISA?\\nRelevant text, if any:', \"Use the following portion of a long document to see if any of the text is relevant to answer the question. \\nReturn any relevant text verbatim.\\nThat's one instruction. So here's another instruction, which is add. So this is the add opcode over here. It also has three fields and then three things that have to be fixed to zero. So there's a destination register. That's where we're going to put our answer, 0 through 7. There's one source register, also 0 through 7. Good. And then there's another source register. So it says take two registers, add them together, put the answer, the sum, into destination register. That's all. What are the zeros for? Ah, so that's a good question. So why not just let those be don't cares? So there was this commercial architecture called the 6502, let those be don't cares. And it turned out that those don't cares produced some bizarre effects when software people used those instructions with different bits, because they just built a finite state machine and they left them as don't cares. And so it did something. And turned out it did something sort of interesting that the software people decided that they really wanted. And so they put those non-existence instructions in their software. And then when the 6502 architects wanted to produce a new generation, they found that in fact people had used bit patterns that didn't exist in the instruction set architecture. So the modern view of that is don't ever make that mistake again. If you ever want to extend your instruction set architecture, it's really useful to have undefined bit patterns. On the other hand, having software that takes advantage of a particular microarchitecture's don't cares mapped into something is not so attractive from a design point of view. So let me stop there and we'll look more at these next week. Have a good weekend.\\nQuestion: What is a LC-3 ISA?\\nRelevant text, if any:\"]"
     ]
    }
   ],
   "source": [
    "# query = \"What did the president say about Justice Breyer\"\n",
    "chain({\"input_documents\": docs, \"question\": query}, return_only_outputs=True)"
   ]
  },
  {
   "attachments": {},
   "cell_type": "markdown",
   "id": "ae2f6d97",
   "metadata": {},
   "source": [
    "**Intermediate Steps**\n",
    "\n",
    "We can also return the intermediate steps for `map_reduce` chains, should we want to inspect them. This is done with the `return_map_steps` variable."
   ]
  },
  {
   "cell_type": "code",
   "execution_count": 29,
   "id": "15af265f",
   "metadata": {},
   "outputs": [],
   "source": [
    "chain = load_qa_with_sources_chain(OpenAI(temperature=0), chain_type=\"map_reduce\", return_intermediate_steps=True)"
   ]
  },
  {
   "cell_type": "code",
   "execution_count": 30,
   "id": "21b136e5",
   "metadata": {},
   "outputs": [
    {
     "data": {
      "text/plain": [
       "{'intermediate_steps': [' \"The instruction set architecture (ISA) of the LC-3 is dened as follows: Memory address space 16 bits, corresponding to 216 locations, each containing one word (16 bits). Addresses are numbered from 0 (i.e., x0000) to 65,535 (i.e., xFFFF). Addresses are used to identify memory locations and memory-mapped I/O device registers. Certain regions of memory are reserved for special uses, as described in Figure A.1.\"',\n",
       "  ' The LC-3 is a three-address ISA.',\n",
       "  ' \"The ISA species all the information about the computer that the software has to be aware of. In other words, the ISA species everything in the computer that is available to a programmer when he/she writes programs in the computer\\'s own machine language. Most people, however, do not write programs in the computer\\'s own machine language, but rather opt for writing programs in a high-level language like C++ or Python (or Fortran or COBOL, which have been around for more than 50 years). Thus, the ISA also species everything in the computer that is needed by someone (a compiler writer) who wishes to translate programs written in a high-level language into the machine language of the computer.\"',\n",
       "  ' None.'],\n",
       " 'output_text': ' LC-3 ISA is a three-address instruction set architecture with a 16-bit memory address space.\\nSOURCES: Yale-Patt_Sanjay-Patel--Intro_to_Computing_Systemspage:200.0, Yale-Patt_Sanjay-Patel--Intro_to_Computing_Systemspage:227.0, Yale-Patt_Sanjay-Patel--Intro_to_Computing_Systemspage:104.0'}"
      ]
     },
     "execution_count": 30,
     "metadata": {},
     "output_type": "execute_result"
    }
   ],
   "source": [
    "chain({\"input_documents\": docs, \"question\": query}, return_only_outputs=True)"
   ]
  },
  {
   "attachments": {},
   "cell_type": "markdown",
   "id": "d56e101a",
   "metadata": {},
   "source": [
    "**Custom Prompts**\n",
    "\n",
    "You can also use your own prompts with this chain. In this example, we will respond in Italian."
   ]
  },
  {
   "cell_type": "code",
   "execution_count": 8,
   "id": "47f0d517",
   "metadata": {},
   "outputs": [
    {
     "data": {
      "text/plain": [
       "{'intermediate_steps': [\"\\nStasera vorrei onorare qualcuno che ha dedicato la sua vita a servire questo paese: il giustizia Stephen Breyer - un veterano dell'esercito, uno studioso costituzionale e un giustizia in uscita della Corte Suprema degli Stati Uniti. Giustizia Breyer, grazie per il tuo servizio.\",\n",
       "  ' Non pertinente.',\n",
       "  ' Non rilevante.',\n",
       "  \" Non c'è testo pertinente.\"],\n",
       " 'output_text': ' Non conosco la risposta. SOURCES: 30, 31, 33, 20.'}"
      ]
     },
     "execution_count": 8,
     "metadata": {},
     "output_type": "execute_result"
    }
   ],
   "source": [
    "\n",
    "question_prompt_template = \"\"\"Use the following portion of a long document to see if any of the text is relevant to answer the question. \n",
    "Return any relevant text in Italian.\n",
    "{context}\n",
    "Question: {question}\n",
    "Relevant text, if any, in Italian:\"\"\"\n",
    "QUESTION_PROMPT = PromptTemplate(\n",
    "    template=question_prompt_template, input_variables=[\"context\", \"question\"]\n",
    ")\n",
    "\n",
    "combine_prompt_template = \"\"\"Given the following extracted parts of a long document and a question, create a final answer with references (\"SOURCES\"). \n",
    "If you don't know the answer, just say that you don't know. Don't try to make up an answer.\n",
    "ALWAYS return a \"SOURCES\" part in your answer.\n",
    "Respond in Italian.\n",
    "\n",
    "QUESTION: {question}\n",
    "=========\n",
    "{summaries}\n",
    "=========\n",
    "FINAL ANSWER IN ITALIAN:\"\"\"\n",
    "COMBINE_PROMPT = PromptTemplate(\n",
    "    template=combine_prompt_template, input_variables=[\"summaries\", \"question\"]\n",
    ")\n",
    "\n",
    "chain = load_qa_with_sources_chain(OpenAI(temperature=0), chain_type=\"map_reduce\", return_intermediate_steps=True, question_prompt=QUESTION_PROMPT, combine_prompt=COMBINE_PROMPT)\n",
    "chain({\"input_documents\": docs, \"question\": query}, return_only_outputs=True)"
   ]
  },
  {
   "attachments": {},
   "cell_type": "markdown",
   "id": "d943c6c1",
   "metadata": {},
   "source": [
    "**Batch Size**\n",
    "\n",
    "When using the `map_reduce` chain, one thing to keep in mind is the batch size you are using during the map step. If this is too high, it could cause rate limiting errors. You can control this by setting the batch size on the LLM used. Note that this only applies for LLMs with this parameter. Below is an example of doing so:\n",
    "\n",
    "```python\n",
    "llm = OpenAI(batch_size=5, temperature=0)\n",
    "```"
   ]
  },
  {
   "attachments": {},
   "cell_type": "markdown",
   "id": "5bf0e1ab",
   "metadata": {},
   "source": [
    "## The `refine` Chain\n",
    "\n",
    "This sections shows results of using the `refine` Chain to do question answering with sources."
   ]
  },
  {
   "cell_type": "code",
   "execution_count": 31,
   "id": "904835c8",
   "metadata": {},
   "outputs": [],
   "source": [
    "chain = load_qa_with_sources_chain(OpenAI(model_name='gpt-4', temperature=0), chain_type=\"refine\")"
   ]
  },
  {
   "cell_type": "code",
   "execution_count": 13,
   "id": "f60875c6",
   "metadata": {},
   "outputs": [
    {
     "data": {
      "text/plain": [
       "{'output_text': \"\\n\\nThe president said that he was honoring Justice Breyer for his dedication to serving the country and that he was a retiring Justice of the United States Supreme Court. He also thanked him for his service and praised his career as a top litigator in private practice, a former federal public defender, and a family of public school educators and police officers. He noted Justice Breyer's reputation as a consensus builder and the broad range of support he has received from the Fraternal Order of Police to former judges appointed by Democrats and Republicans. He also highlighted the importance of securing the border and fixing the immigration system in order to advance liberty and justice, and mentioned the new technology, joint patrols, dedicated immigration judges, and commitments to support partners in South and Central America that have been put in place. He also expressed his commitment to the LGBTQ+ community, noting the need for the bipartisan Equality Act and the importance of protecting transgender Americans from state laws targeting them. He also highlighted his commitment to bipartisanship, noting the 80 bipartisan bills he signed into law last year, and his plans to strengthen the Violence Against Women Act. Additionally, he announced that the Justice Department will name a chief prosecutor for pandemic fraud and his plan to lower the deficit by more than one trillion dollars in a\"}"
      ]
     },
     "execution_count": 13,
     "metadata": {},
     "output_type": "execute_result"
    }
   ],
   "source": [
    "# query = \"What did the president say about Justice Breyer\"\n",
    "chain({\"input_documents\": docs, \"question\": query}, return_only_outputs=True)"
   ]
  },
  {
   "attachments": {},
   "cell_type": "markdown",
   "id": "ac357530",
   "metadata": {},
   "source": [
    "**Intermediate Steps**\n",
    "\n",
    "We can also return the intermediate steps for `refine` chains, should we want to inspect them. This is done with the `return_intermediate_steps` variable."
   ]
  },
  {
   "cell_type": "code",
   "execution_count": 32,
   "id": "3396a773",
   "metadata": {},
   "outputs": [],
   "source": [
    "chain = load_qa_with_sources_chain(OpenAI(model_name='gpt-4', temperature=0), chain_type=\"refine\", return_intermediate_steps=True)"
   ]
  },
  {
   "cell_type": "code",
   "execution_count": 33,
   "id": "be5739ef",
   "metadata": {},
   "outputs": [
    {
     "data": {
      "text/plain": [
       "{'intermediate_steps': ['An LC-3 ISA (Instruction Set Architecture) is a specific architecture for a computer system that defines its memory address space, memory locations, and memory-mapped I/O device registers. In the case of LC-3, it has a 16-bit memory address space, corresponding to 2^16 locations, each containing one word (16 bits). Addresses are numbered from 0 (i.e., x0000) to 65,535 (i.e., xFFFF).',\n",
       "  'An LC-3 ISA (Instruction Set Architecture) is a specific architecture for a computer system that defines its memory address space, memory locations, memory-mapped I/O device registers, and instruction set. In the case of LC-3, it has a 16-bit memory address space, corresponding to 2^16 locations, each containing one word (16 bits). Addresses are numbered from 0 (i.e., x0000) to 65,535 (i.e., xFFFF).\\n\\nThe LC-3 ISA includes various data movement opcodes, control opcodes, and supports a three-address format for instructions like ADD, which requires two source operands and one destination operand. This architecture is designed to be simple and easy to understand, making it suitable for educational purposes in teaching computer organization and assembly language programming.\\n\\nSource: Yale-Patt_Sanjay-Patel--Intro_to_Computing_Systemspage:227.0',\n",
       "  'An LC-3 ISA (Instruction Set Architecture) is a specific architecture for a computer system that defines its memory address space, memory locations, memory-mapped I/O device registers, and instruction set. In the case of LC-3, it has a 16-bit memory address space, corresponding to 2^16 locations, each containing one word (16 bits). Addresses are numbered from 0 (i.e., x0000) to 65,535 (i.e., xFFFF).\\n\\nThe LC-3 ISA includes various data movement opcodes, control opcodes, and supports a three-address format for instructions like ADD, which requires two source operands and one destination operand. This architecture is designed to be simple and easy to understand, making it suitable for educational purposes in teaching computer organization, assembly language programming, and understanding the interface between software commands and hardware execution.\\n\\nA complete description of the LC-3 ISA can be found in Appendix A of the book \"Introduction to Computing Systems\" by Yale Patt and Sanjay Patel.\\n\\nSource: Yale-Patt_Sanjay-Patel--Intro_to_Computing_Systems, pages: 104.0, 227.0',\n",
       "  'An LC-3 ISA (Instruction Set Architecture) is a specific architecture for a computer system that defines its memory address space, memory locations, memory-mapped I/O device registers, and instruction set. In the case of LC-3, it has a 16-bit memory address space, corresponding to 2^16 locations, each containing one word (16 bits). Addresses are numbered from 0 (i.e., x0000) to 65,535 (i.e., xFFFF).\\n\\nThe LC-3 ISA includes various data movement opcodes, control opcodes, and supports a three-address format for instructions like ADD, which requires two source operands and one destination operand. This architecture is designed to be simple and easy to understand, making it suitable for educational purposes in teaching computer organization, assembly language programming, and understanding the interface between software commands and hardware execution.\\n\\nIn the LC-3 ISA, certain bits in the instruction format are fixed to zero to avoid undefined bit patterns, which can cause issues when extending the instruction set architecture or when software takes advantage of a particular microarchitecture\\'s \"don\\'t cares\" mapped into something. This design choice helps maintain compatibility and stability in the architecture.\\n\\nA complete description of the LC-3 ISA can be found in Appendix A of the book \"Introduction to Computing Systems\" by Yale Patt and Sanjay Patel.\\n\\nSource: Yale-Patt_Sanjay-Patel--Intro_to_Computing_Systems, pages: 104.0, 227.0; ECE120-2016-10-28-LEC-27-slides.mp4page'],\n",
       " 'output_text': 'An LC-3 ISA (Instruction Set Architecture) is a specific architecture for a computer system that defines its memory address space, memory locations, memory-mapped I/O device registers, and instruction set. In the case of LC-3, it has a 16-bit memory address space, corresponding to 2^16 locations, each containing one word (16 bits). Addresses are numbered from 0 (i.e., x0000) to 65,535 (i.e., xFFFF).\\n\\nThe LC-3 ISA includes various data movement opcodes, control opcodes, and supports a three-address format for instructions like ADD, which requires two source operands and one destination operand. This architecture is designed to be simple and easy to understand, making it suitable for educational purposes in teaching computer organization, assembly language programming, and understanding the interface between software commands and hardware execution.\\n\\nIn the LC-3 ISA, certain bits in the instruction format are fixed to zero to avoid undefined bit patterns, which can cause issues when extending the instruction set architecture or when software takes advantage of a particular microarchitecture\\'s \"don\\'t cares\" mapped into something. This design choice helps maintain compatibility and stability in the architecture.\\n\\nA complete description of the LC-3 ISA can be found in Appendix A of the book \"Introduction to Computing Systems\" by Yale Patt and Sanjay Patel.\\n\\nSource: Yale-Patt_Sanjay-Patel--Intro_to_Computing_Systems, pages: 104.0, 227.0; ECE120-2016-10-28-LEC-27-slides.mp4page'}"
      ]
     },
     "execution_count": 33,
     "metadata": {},
     "output_type": "execute_result"
    }
   ],
   "source": [
    "chain({\"input_documents\": docs, \"question\": query}, return_only_outputs=False)"
   ]
  },
  {
   "cell_type": "code",
   "execution_count": 34,
   "id": "7c5ebdfb",
   "metadata": {},
   "outputs": [
    {
     "data": {
      "text/plain": [
       "{'input_documents': [Document(page_content='LC-3 ISA\\nA.1 Overview\\nThe instruction set architecture (ISA) of the LC-3 is dened as follows:\\nMemory address space 16 bits, corresponding to 216 locations, each\\ncontaining one word (16 bits). Addresses are numbered from 0 (i.e., x0000)\\nto 65,535 (i.e., xFFFF). Addresses are used to identify memory locations\\nand memory-mapped I/O device registers. Certain regions of memory are\\nreserved for special uses, as described in Figure A.1.\\nxFFFF\\nFigure A.1\\nMemory map of the LC-3', metadata={'page_number': 200.0, 'textbook_name': 'Yale-Patt_Sanjay-Patel--Intro_to_Computing_Systems', 'source': 'Yale-Patt_Sanjay-Patel--Intro_to_Computing_Systemspage:200.0'}),\n",
       "  Document(page_content='Table B.2 lists some of the data movement\\nopcodes in the x86 instruction set.\\nControl\\nThe LC-3 has ve control opcodes: BR, JSR/JSRR, JMP, RTI, and\\nTRAP. x86 has all these and more. Table B.3 lists some of the control opcodes in\\nthe x86 instruction set.\\nB.1.1.3 Two Address vs. Three Address\\nThe LC-3 is a three-address ISA. This description reects the number of operands\\nexplicitly specied by the ADD instruction. An add operation requires two\\nsource operands (the numbers to be added) and one destination operand to store', metadata={'page_number': 227.0, 'textbook_name': 'Yale-Patt_Sanjay-Patel--Intro_to_Computing_Systems', 'source': 'Yale-Patt_Sanjay-Patel--Intro_to_Computing_Systemspage:227.0'}),\n",
       "  Document(page_content='LC-3\\nI\\nn Chapter 4, we discussed the basic components of a computerits mem-\\nory, its processing unit, including the associated temporary storage (usually\\na set of registers), input and output devices, and the control unit that directs the\\nactivity of all the units (including itself!). We also studied the six phases of the\\ninstruction cycleFETCH, DECODE, ADDRESS EVALUATION, OPERAND\\nFETCH, EXECUTE, and STORE RESULT. We used elements of the LC-3 to\\nillustrate some of the concepts. In fact, we introduced ve opcodes: two operate\\ninstructions (ADD and AND), one data movement instruction (LD), and two con-\\ntrol instructions (BR and TRAP). We are now ready to study the LC-3 in much\\ngreater detail.\\nRecall from Chapter 1 that the ISA is the interface between what the soft-\\nware commands and what the hardware actually carries out. In this chapter, we\\nwill point out most of the important features of the ISA of the LC-3. (A few ele-\\nments we will leave for Chapter 8 and Chapter 9.) You will need these features\\nto write programs in the LC-3s own language, that is, in the LC-3s machine\\nlanguage.\\nA complete description of the ISA of the LC-3 is contained in Appendix A.\\n5.1 The ISA: Overview\\nThe ISA species all the information about the computer that the software has\\nto be aware of. In other words, the ISA species everything in the computer\\nthat is available to a programmer when he/she writes programs in the com-\\nputers own machine language. Most people, however, do not write programs\\nin the computers own machine language, but rather opt for writing programs in\\na high-level language like C++ or Python (or Fortran or COBOL, which have\\nbeen around for more than 50 years). Thus, the ISA also species everything\\nin the computer that is needed by someone (a compiler writer) who wishes to\\ntranslate programs written in a high-level language into the machine language of\\nthe computer.', metadata={'page_number': 104.0, 'textbook_name': 'Yale-Patt_Sanjay-Patel--Intro_to_Computing_Systems', 'source': 'Yale-Patt_Sanjay-Patel--Intro_to_Computing_Systemspage:104.0'}),\n",
       "  Document(page_content=\"That's one instruction. So here's another instruction, which is add. So this is the add opcode over here. It also has three fields and then three things that have to be fixed to zero. So there's a destination register. That's where we're going to put our answer, 0 through 7. There's one source register, also 0 through 7. Good. And then there's another source register. So it says take two registers, add them together, put the answer, the sum, into destination register. That's all. What are the zeros for? Ah, so that's a good question. So why not just let those be don't cares? So there was this commercial architecture called the 6502, let those be don't cares. And it turned out that those don't cares produced some bizarre effects when software people used those instructions with different bits, because they just built a finite state machine and they left them as don't cares. And so it did something. And turned out it did something sort of interesting that the software people decided that they really wanted. And so they put those non-existence instructions in their software. And then when the 6502 architects wanted to produce a new generation, they found that in fact people had used bit patterns that didn't exist in the instruction set architecture. So the modern view of that is don't ever make that mistake again. If you ever want to extend your instruction set architecture, it's really useful to have undefined bit patterns. On the other hand, having software that takes advantage of a particular microarchitecture's don't cares mapped into something is not so attractive from a design point of view. So let me stop there and we'll look more at these next week. Have a good weekend.\", metadata={'page_number': '', 'textbook_name': 'ECE120-2016-10-28-LEC-27-slides.mp4', 'source': 'ECE120-2016-10-28-LEC-27-slides.mp4page:'})],\n",
       " 'question': 'What is a LC-3 ISA?',\n",
       " 'intermediate_steps': ['An LC-3 ISA (Instruction Set Architecture) is a specific set of rules and specifications that define the memory address space, memory locations, and memory-mapped I/O device registers for the LC-3 computing system. It has a 16-bit memory address space, corresponding to 2^16 locations, each containing one word (16 bits). Addresses range from 0 (x0000) to 65,535 (xFFFF).',\n",
       "  'An LC-3 ISA (Instruction Set Architecture) is a specific set of rules and specifications that define the memory address space, memory locations, memory-mapped I/O device registers, and opcodes for the LC-3 computing system. It has a 16-bit memory address space, corresponding to 2^16 locations, each containing one word (16 bits). Addresses range from 0 (x0000) to 65,535 (xFFFF). The LC-3 is a three-address ISA, which means that its ADD instruction explicitly specifies three operands: two source operands (the numbers to be added) and one destination operand to store the result. The LC-3 ISA includes various data movement and control opcodes, such as BR, JSR/JSRR, JMP, RTI, and TRAP.\\n\\nSource: Yale-Patt_Sanjay-Patel--Intro_to_Computing_Systems, page: 227.0',\n",
       "  \"An LC-3 ISA (Instruction Set Architecture) is a specific set of rules and specifications that define the interface between software commands and hardware execution in the LC-3 computing system. It includes the memory address space, memory locations, memory-mapped I/O device registers, and opcodes. The LC-3 has a 16-bit memory address space, corresponding to 2^16 locations, each containing one word (16 bits). Addresses range from 0 (x0000) to 65,535 (xFFFF). The LC-3 is a three-address ISA, which means that its ADD instruction explicitly specifies three operands: two source operands (the numbers to be added) and one destination operand to store the result. The LC-3 ISA includes various data movement and control opcodes, such as BR, JSR/JSRR, JMP, RTI, and TRAP.\\n\\nThe ISA is essential for programmers writing programs in the LC-3's machine language and for compiler writers translating high-level language programs into the machine language of the computer.\\n\\nSource: Yale-Patt_Sanjay-Patel--Intro_to_Computing_Systems, page: 104.0, 227.0\",\n",
       "  \"An LC-3 ISA (Instruction Set Architecture) is a specific set of rules and specifications that define the interface between software commands and hardware execution in the LC-3 computing system. It includes the memory address space, memory locations, memory-mapped I/O device registers, and opcodes. The LC-3 has a 16-bit memory address space, corresponding to 2^16 locations, each containing one word (16 bits). Addresses range from 0 (x0000) to 65,535 (xFFFF). The LC-3 is a three-address ISA, which means that its ADD instruction explicitly specifies three operands: two source operands (the numbers to be added) and one destination operand to store the result. The LC-3 ISA includes various data movement and control opcodes, such as BR, JSR/JSRR, JMP, RTI, and TRAP.\\n\\nThe ISA is essential for programmers writing programs in the LC-3's machine language and for compiler writers translating high-level language programs into the machine language of the computer. It is important to have well-defined bit patterns in the ISA to avoid undefined behavior and ensure compatibility with future extensions of the instruction set architecture.\\n\\nSource: Yale-Patt_Sanjay-Patel--Intro_to_Computing_Systems, page: 104.0, 227.0; ECE120-2016-10-28-LEC-27-slides.mp4page\"],\n",
       " 'output_text': \"An LC-3 ISA (Instruction Set Architecture) is a specific set of rules and specifications that define the interface between software commands and hardware execution in the LC-3 computing system. It includes the memory address space, memory locations, memory-mapped I/O device registers, and opcodes. The LC-3 has a 16-bit memory address space, corresponding to 2^16 locations, each containing one word (16 bits). Addresses range from 0 (x0000) to 65,535 (xFFFF). The LC-3 is a three-address ISA, which means that its ADD instruction explicitly specifies three operands: two source operands (the numbers to be added) and one destination operand to store the result. The LC-3 ISA includes various data movement and control opcodes, such as BR, JSR/JSRR, JMP, RTI, and TRAP.\\n\\nThe ISA is essential for programmers writing programs in the LC-3's machine language and for compiler writers translating high-level language programs into the machine language of the computer. It is important to have well-defined bit patterns in the ISA to avoid undefined behavior and ensure compatibility with future extensions of the instruction set architecture.\\n\\nSource: Yale-Patt_Sanjay-Patel--Intro_to_Computing_Systems, page: 104.0, 227.0; ECE120-2016-10-28-LEC-27-slides.mp4page\"}"
      ]
     },
     "execution_count": 34,
     "metadata": {},
     "output_type": "execute_result"
    }
   ],
   "source": [
    "chain({\"input_documents\": docs, \"question\": query}, return_only_outputs=False)"
   ]
  },
  {
   "attachments": {},
   "cell_type": "markdown",
   "id": "cf08c8a1",
   "metadata": {},
   "source": [
    "**Custom Prompts**\n",
    "\n",
    "You can also use your own prompts with this chain. In this example, we will respond in Italian."
   ]
  },
  {
   "cell_type": "code",
   "execution_count": 9,
   "id": "97e33bd9",
   "metadata": {},
   "outputs": [],
   "source": [
    "refine_template = (\n",
    "    \"The original question is as follows: {question}\\n\"\n",
    "    \"We have provided an existing answer, including sources: {existing_answer}\\n\"\n",
    "    \"We have the opportunity to refine the existing answer\"\n",
    "    \"(only if needed) with some more context below.\\n\"\n",
    "    \"------------\\n\"\n",
    "    \"{context_str}\\n\"\n",
    "    \"------------\\n\"\n",
    "    \"Given the new context, refine the original answer to better \"\n",
    "    \"answer the question (in Italian)\"\n",
    "    \"If you do update it, please update the sources as well. \"\n",
    "    \"If the context isn't useful, return the original answer.\"\n",
    ")\n",
    "refine_prompt = PromptTemplate(\n",
    "    input_variables=[\"question\", \"existing_answer\", \"context_str\"],\n",
    "    template=refine_template,\n",
    ")\n",
    "\n",
    "\n",
    "question_template = (\n",
    "    \"Context information is below. \\n\"\n",
    "    \"---------------------\\n\"\n",
    "    \"{context_str}\"\n",
    "    \"\\n---------------------\\n\"\n",
    "    \"Given the context information and not prior knowledge, \"\n",
    "    \"answer the question in Italian: {question}\\n\"\n",
    ")\n",
    "question_prompt = PromptTemplate(\n",
    "    input_variables=[\"context_str\", \"question\"], template=question_template\n",
    ")"
   ]
  },
  {
   "cell_type": "code",
   "execution_count": 10,
   "id": "41565992",
   "metadata": {},
   "outputs": [
    {
     "data": {
      "text/plain": [
       "{'intermediate_steps': ['\\nIl presidente ha detto che Justice Breyer ha dedicato la sua vita al servizio di questo paese e ha onorato la sua carriera.',\n",
       "  \"\\n\\nIl presidente ha detto che Justice Breyer ha dedicato la sua vita al servizio di questo paese, ha onorato la sua carriera e ha contribuito a costruire un consenso. Ha ricevuto un ampio sostegno, dall'Ordine Fraterno della Polizia a ex giudici nominati da democratici e repubblicani. Inoltre, ha sottolineato l'importanza di avanzare la libertà e la giustizia attraverso la sicurezza delle frontiere e la risoluzione del sistema di immigrazione. Ha anche menzionato le nuove tecnologie come scanner all'avanguardia per rilevare meglio il traffico di droga, le pattuglie congiunte con Messico e Guatemala per catturare più trafficanti di esseri umani, l'istituzione di giudici di immigrazione dedicati per far sì che le famiglie che fuggono da per\",\n",
       "  \"\\n\\nIl presidente ha detto che Justice Breyer ha dedicato la sua vita al servizio di questo paese, ha onorato la sua carriera e ha contribuito a costruire un consenso. Ha ricevuto un ampio sostegno, dall'Ordine Fraterno della Polizia a ex giudici nominati da democratici e repubblicani. Inoltre, ha sottolineato l'importanza di avanzare la libertà e la giustizia attraverso la sicurezza delle frontiere e la risoluzione del sistema di immigrazione. Ha anche menzionato le nuove tecnologie come scanner all'avanguardia per rilevare meglio il traffico di droga, le pattuglie congiunte con Messico e Guatemala per catturare più trafficanti di esseri umani, l'istituzione di giudici di immigrazione dedicati per far sì che le famiglie che fuggono da per\",\n",
       "  \"\\n\\nIl presidente ha detto che Justice Breyer ha dedicato la sua vita al servizio di questo paese, ha onorato la sua carriera e ha contribuito a costruire un consenso. Ha ricevuto un ampio sostegno, dall'Ordine Fraterno della Polizia a ex giudici nominati da democratici e repubblicani. Inoltre, ha sottolineato l'importanza di avanzare la libertà e la giustizia attraverso la sicurezza delle frontiere e la risoluzione del sistema di immigrazione. Ha anche menzionato le nuove tecnologie come scanner all'avanguardia per rilevare meglio il traffico di droga, le pattuglie congiunte con Messico e Guatemala per catturare più trafficanti di esseri umani, l'istituzione di giudici di immigrazione dedicati per far sì che le famiglie che fuggono da per\"],\n",
       " 'output_text': \"\\n\\nIl presidente ha detto che Justice Breyer ha dedicato la sua vita al servizio di questo paese, ha onorato la sua carriera e ha contribuito a costruire un consenso. Ha ricevuto un ampio sostegno, dall'Ordine Fraterno della Polizia a ex giudici nominati da democratici e repubblicani. Inoltre, ha sottolineato l'importanza di avanzare la libertà e la giustizia attraverso la sicurezza delle frontiere e la risoluzione del sistema di immigrazione. Ha anche menzionato le nuove tecnologie come scanner all'avanguardia per rilevare meglio il traffico di droga, le pattuglie congiunte con Messico e Guatemala per catturare più trafficanti di esseri umani, l'istituzione di giudici di immigrazione dedicati per far sì che le famiglie che fuggono da per\"}"
      ]
     },
     "execution_count": 10,
     "metadata": {},
     "output_type": "execute_result"
    }
   ],
   "source": [
    "chain = load_qa_with_sources_chain(OpenAI(temperature=0), chain_type=\"refine\", return_intermediate_steps=True, question_prompt=question_prompt, refine_prompt=refine_prompt)\n",
    "chain({\"input_documents\": docs, \"question\": query}, return_only_outputs=True)"
   ]
  },
  {
   "attachments": {},
   "cell_type": "markdown",
   "id": "07ff756e",
   "metadata": {},
   "source": [
    "## The `map-rerank` Chain\n",
    "\n",
    "This sections shows results of using the `map-rerank` Chain to do question answering with sources."
   ]
  },
  {
   "cell_type": "code",
   "execution_count": 10,
   "id": "46b52ef9",
   "metadata": {},
   "outputs": [],
   "source": [
    "chain = load_qa_with_sources_chain(OpenAI(temperature=0), chain_type=\"map_rerank\", metadata_keys=['source'], return_intermediate_steps=True)"
   ]
  },
  {
   "cell_type": "code",
   "execution_count": 11,
   "id": "7ce2da04",
   "metadata": {},
   "outputs": [],
   "source": [
    "query = \"What did the president say about Justice Breyer\"\n",
    "result = chain({\"input_documents\": docs, \"question\": query}, return_only_outputs=True)"
   ]
  },
  {
   "cell_type": "code",
   "execution_count": 12,
   "id": "cbdcd3c5",
   "metadata": {},
   "outputs": [
    {
     "data": {
      "text/plain": [
       "' The President thanked Justice Breyer for his service and honored him for dedicating his life to serve the country.'"
      ]
     },
     "execution_count": 12,
     "metadata": {},
     "output_type": "execute_result"
    }
   ],
   "source": [
    "result[\"output_text\"]"
   ]
  },
  {
   "cell_type": "code",
   "execution_count": 14,
   "id": "6f0b3d03",
   "metadata": {},
   "outputs": [
    {
     "data": {
      "text/plain": [
       "[{'answer': ' The President thanked Justice Breyer for his service and honored him for dedicating his life to serve the country.',\n",
       "  'score': '100'},\n",
       " {'answer': ' This document does not answer the question', 'score': '0'},\n",
       " {'answer': ' This document does not answer the question', 'score': '0'},\n",
       " {'answer': ' This document does not answer the question', 'score': '0'}]"
      ]
     },
     "execution_count": 14,
     "metadata": {},
     "output_type": "execute_result"
    }
   ],
   "source": [
    "result[\"intermediate_steps\"]"
   ]
  },
  {
   "attachments": {},
   "cell_type": "markdown",
   "id": "b94bfeb6",
   "metadata": {},
   "source": [
    "**Custom Prompts**\n",
    "\n",
    "You can also use your own prompts with this chain. In this example, we will respond in Italian."
   ]
  },
  {
   "cell_type": "code",
   "execution_count": 11,
   "id": "cb46ba3f",
   "metadata": {},
   "outputs": [],
   "source": [
    "from langchain.output_parsers import RegexParser\n",
    "\n",
    "output_parser = RegexParser(\n",
    "    regex=r\"(.*?)\\nScore: (.*)\",\n",
    "    output_keys=[\"answer\", \"score\"],\n",
    ")\n",
    "\n",
    "prompt_template = \"\"\"Use the following pieces of context to answer the question at the end. If you don't know the answer, just say that you don't know, don't try to make up an answer.\n",
    "\n",
    "In addition to giving an answer, also return a score of how fully it answered the user's question. This should be in the following format:\n",
    "\n",
    "Question: [question here]\n",
    "Helpful Answer In Italian: [answer here]\n",
    "Score: [score between 0 and 100]\n",
    "\n",
    "Begin!\n",
    "\n",
    "Context:\n",
    "---------\n",
    "{context}\n",
    "---------\n",
    "Question: {question}\n",
    "Helpful Answer In Italian:\"\"\"\n",
    "PROMPT = PromptTemplate(\n",
    "    template=prompt_template,\n",
    "    input_variables=[\"context\", \"question\"],\n",
    "    output_parser=output_parser,\n",
    ")\n",
    "chain = load_qa_with_sources_chain(OpenAI(temperature=0), chain_type=\"map_rerank\", metadata_keys=['source'], return_intermediate_steps=True, prompt=PROMPT)\n",
    "query = \"What did the president say about Justice Breyer\"\n",
    "result = chain({\"input_documents\": docs, \"question\": query}, return_only_outputs=True)"
   ]
  },
  {
   "cell_type": "code",
   "execution_count": 12,
   "id": "fee7b055",
   "metadata": {},
   "outputs": [
    {
     "data": {
      "text/plain": [
       "{'source': 30,\n",
       " 'intermediate_steps': [{'answer': ' Il presidente ha detto che Justice Breyer ha dedicato la sua vita a servire questo paese e ha onorato la sua carriera.',\n",
       "   'score': '100'},\n",
       "  {'answer': ' Il presidente non ha detto nulla sulla Giustizia Breyer.',\n",
       "   'score': '100'},\n",
       "  {'answer': ' Non so.', 'score': '0'},\n",
       "  {'answer': ' Il presidente non ha detto nulla sulla giustizia Breyer.',\n",
       "   'score': '100'}],\n",
       " 'output_text': ' Il presidente ha detto che Justice Breyer ha dedicato la sua vita a servire questo paese e ha onorato la sua carriera.'}"
      ]
     },
     "execution_count": 12,
     "metadata": {},
     "output_type": "execute_result"
    }
   ],
   "source": [
    "result"
   ]
  },
  {
   "cell_type": "code",
   "execution_count": null,
   "id": "5a51c987",
   "metadata": {},
   "outputs": [],
   "source": []
  }
 ],
 "metadata": {
  "kernelspec": {
   "display_name": "Python 3 (ipykernel)",
   "language": "python",
   "name": "python3"
  },
  "language_info": {
   "codemirror_mode": {
    "name": "ipython",
    "version": 3
   },
   "file_extension": ".py",
   "mimetype": "text/x-python",
   "name": "python",
   "nbconvert_exporter": "python",
   "pygments_lexer": "ipython3",
   "version": "3.10.4"
  },
  "vscode": {
   "interpreter": {
    "hash": "b1677b440931f40d89ef8be7bf03acb108ce003de0ac9b18e8d43753ea2e7103"
   }
  }
 },
 "nbformat": 4,
 "nbformat_minor": 5
}
